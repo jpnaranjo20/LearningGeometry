{
 "cells": [
  {
   "cell_type": "code",
   "execution_count": 1,
   "metadata": {},
   "outputs": [],
   "source": [
    "import numpy as np\n",
    "import pandas as pd\n",
    "\n",
    "distancias = ['10km', '20km', '50km', '75km', '95km']"
   ]
  },
  {
   "cell_type": "code",
   "execution_count": 2,
   "metadata": {},
   "outputs": [
    {
     "name": "stdout",
     "output_type": "stream",
     "text": [
      "m=200\n",
      "      10km  20km  50km  75km  95km\n",
      "10km    31     6     1     2     0\n",
      "20km     4    26     4     6     0\n",
      "50km     4     1    28     7     0\n",
      "75km     5     5     0    30     0\n",
      "95km     7     2     0     4    27\n",
      "Accuracy: 0.71\n"
     ]
    }
   ],
   "source": [
    "fila_10km_m200 = pd.read_excel('matrices_conf_dists/m200/fila10km.xlsx')\n",
    "fila_20km_m200 = pd.read_excel('matrices_conf_dists/m200/fila20km.xlsx')\n",
    "fila_50km_m200 = pd.read_excel('matrices_conf_dists/m200/fila50km.xlsx')\n",
    "fila_75km_m200 = pd.read_excel('matrices_conf_dists/m200/fila75km.xlsx')\n",
    "fila_95km_m200 = pd.read_excel('matrices_conf_dists/m200/fila95km.xlsx')\n",
    "\n",
    "\n",
    "row10_m200 = list(fila_10km_m200.iloc[0])\n",
    "row20_m200 = list(fila_20km_m200.iloc[1])\n",
    "row50_m200 = list(fila_50km_m200.iloc[2])\n",
    "row75_m200 = list(fila_75km_m200.iloc[3])\n",
    "row95_m200 = list(fila_95km_m200.iloc[4])\n",
    "\n",
    "dists_m200 = [row10_m200, row20_m200, row50_m200, row75_m200, row95_m200]\n",
    "\n",
    "conf_dists_m200 = pd.DataFrame(dists_m200)\n",
    "\n",
    "# Drop first column\n",
    "conf_dists_m200.drop(columns=conf_dists_m200.columns[0], axis=1, inplace=True)\n",
    "conf_dists_m200.index = distancias\n",
    "conf_dists_m200.columns = distancias\n",
    "\n",
    "diagonal = [conf_dists_m200['10km'][0], conf_dists_m200['20km'][1], conf_dists_m200['50km'][2], conf_dists_m200['75km'][3], conf_dists_m200['95km'][4]]\n",
    "accuracy = np.sum(diagonal)/(40*5)\n",
    "\n",
    "print('m=200')\n",
    "print(conf_dists_m200)\n",
    "print(f'Accuracy: {accuracy}')\n",
    "df_accuracy_dists = pd.DataFrame([accuracy], index=['Percent'], columns=['Accuracy'])\n",
    "\n",
    "conf_dists_m200.to_excel('matrices_conf_dists/m200/mat_conf_dists_m200.xlsx')\n",
    "df_accuracy_dists.to_excel('matrices_conf_dists/m200/accuracy_m200.xlsx')"
   ]
  },
  {
   "cell_type": "code",
   "execution_count": 3,
   "metadata": {},
   "outputs": [
    {
     "name": "stdout",
     "output_type": "stream",
     "text": [
      "m=350\n",
      "      10km  20km  50km  75km  95km\n",
      "10km    35     3     0     0     2\n",
      "20km     9    25     1     0     5\n",
      "50km     6     1    28     5     0\n",
      "75km     5     2     2    25     6\n",
      "95km     7     3     4     5    21\n",
      "Accuracy: 0.67\n"
     ]
    }
   ],
   "source": [
    "fila_10km_m350 = pd.read_excel('matrices_conf_dists/m350/fila10km.xlsx')\n",
    "fila_20km_m350 = pd.read_excel('matrices_conf_dists/m350/fila20km.xlsx')\n",
    "fila_50km_m350 = pd.read_excel('matrices_conf_dists/m350/fila50km.xlsx')\n",
    "fila_75km_m350 = pd.read_excel('matrices_conf_dists/m350/fila75km.xlsx')\n",
    "fila_95km_m350 = pd.read_excel('matrices_conf_dists/m350/fila95km.xlsx')\n",
    "\n",
    "\n",
    "row10_m350 = list(fila_10km_m350.iloc[0])\n",
    "row20_m350 = list(fila_20km_m350.iloc[1])\n",
    "row50_m350 = list(fila_50km_m350.iloc[2])\n",
    "row75_m350 = list(fila_75km_m350.iloc[3])\n",
    "row95_m350 = list(fila_95km_m350.iloc[4])\n",
    "\n",
    "dists_m350 = [row10_m350, row20_m350, row50_m350, row75_m350, row95_m350]\n",
    "\n",
    "conf_dists_m350 = pd.DataFrame(dists_m350)\n",
    "\n",
    "# Drop first column\n",
    "conf_dists_m350.drop(columns=conf_dists_m350.columns[0], axis=1, inplace=True)\n",
    "conf_dists_m350.index = distancias\n",
    "conf_dists_m350.columns = distancias\n",
    "\n",
    "diagonal = [conf_dists_m350['10km'][0], conf_dists_m350['20km'][1], conf_dists_m350['50km'][2], conf_dists_m350['75km'][3], conf_dists_m350['95km'][4]]\n",
    "accuracy = np.sum(diagonal)/(40*5)\n",
    "\n",
    "print('m=350')\n",
    "print(conf_dists_m350)\n",
    "print(f'Accuracy: {accuracy}')\n",
    "df_accuracy_dists = pd.DataFrame([accuracy], index=['Percent'], columns=['Accuracy'])\n",
    "\n",
    "conf_dists_m350.to_excel('matrices_conf_dists/m350/mat_conf_dists_m350.xlsx')\n",
    "df_accuracy_dists.to_excel('matrices_conf_dists/m350/accuracy_m350.xlsx')"
   ]
  },
  {
   "cell_type": "code",
   "execution_count": 4,
   "metadata": {},
   "outputs": [
    {
     "name": "stdout",
     "output_type": "stream",
     "text": [
      "m=500\n",
      "      10km  20km  50km  75km  95km\n",
      "10km    31     6     1     2     0\n",
      "20km     4    22     7     6     1\n",
      "50km     4     0    29     7     0\n",
      "75km     3     4     1    30     2\n",
      "95km     7     1     0     7    25\n",
      "Accuracy: 0.685\n"
     ]
    }
   ],
   "source": [
    "fila_10km_m500 = pd.read_excel('matrices_conf_dists/m500/fila10km.xlsx')\n",
    "fila_20km_m500 = pd.read_excel('matrices_conf_dists/m500/fila20km.xlsx')\n",
    "fila_50km_m500 = pd.read_excel('matrices_conf_dists/m500/fila50km.xlsx')\n",
    "fila_75km_m500 = pd.read_excel('matrices_conf_dists/m500/fila75km.xlsx')\n",
    "fila_95km_m500 = pd.read_excel('matrices_conf_dists/m500/fila95km.xlsx')\n",
    "\n",
    "\n",
    "row10_m500 = list(fila_10km_m500.iloc[0])\n",
    "row20_m500 = list(fila_20km_m500.iloc[1])\n",
    "row50_m500 = list(fila_50km_m500.iloc[2])\n",
    "row75_m500 = list(fila_75km_m500.iloc[3])\n",
    "row95_m500 = list(fila_95km_m500.iloc[4])\n",
    "\n",
    "dists_m500 = [row10_m500, row20_m500, row50_m500, row75_m500, row95_m500]\n",
    "\n",
    "conf_dists_m500 = pd.DataFrame(dists_m500)\n",
    "\n",
    "# Drop first column\n",
    "conf_dists_m500.drop(columns=conf_dists_m500.columns[0], axis=1, inplace=True)\n",
    "conf_dists_m500.index = distancias\n",
    "conf_dists_m500.columns = distancias\n",
    "\n",
    "diagonal = [conf_dists_m500['10km'][0], conf_dists_m500['20km'][1], conf_dists_m500['50km'][2], conf_dists_m500['75km'][3], conf_dists_m500['95km'][4]]\n",
    "accuracy = np.sum(diagonal)/(40*5)\n",
    "\n",
    "print('m=500')\n",
    "print(conf_dists_m500)\n",
    "print(f'Accuracy: {accuracy}')\n",
    "df_accuracy_dists = pd.DataFrame([accuracy], index=['Percent'], columns=['Accuracy'])\n",
    "\n",
    "conf_dists_m500.to_excel('matrices_conf_dists/m500/mat_conf_dists_m500.xlsx')\n",
    "df_accuracy_dists.to_excel('matrices_conf_dists/m500/accuracy_m500.xlsx')"
   ]
  },
  {
   "cell_type": "code",
   "execution_count": 5,
   "metadata": {},
   "outputs": [
    {
     "name": "stdout",
     "output_type": "stream",
     "text": [
      "m=750\n",
      "      10km  20km  50km  75km  95km\n",
      "10km    31     3     2     1     3\n",
      "20km     6    22     5     7     0\n",
      "50km     7     0    30     3     0\n",
      "75km     5     1     5    22     7\n",
      "95km     6     2     3     7    22\n",
      "Accuracy: 0.635\n"
     ]
    }
   ],
   "source": [
    "fila_10km_m750 = pd.read_excel('matrices_conf_dists/m750/fila10km.xlsx')\n",
    "fila_20km_m750 = pd.read_excel('matrices_conf_dists/m750/fila20km.xlsx')\n",
    "fila_50km_m750 = pd.read_excel('matrices_conf_dists/m750/fila50km.xlsx')\n",
    "fila_75km_m750 = pd.read_excel('matrices_conf_dists/m750/fila75km.xlsx')\n",
    "fila_95km_m750 = pd.read_excel('matrices_conf_dists/m750/fila95km.xlsx')\n",
    "\n",
    "\n",
    "row10_m750 = list(fila_10km_m750.iloc[0])\n",
    "row20_m750 = list(fila_20km_m750.iloc[1])\n",
    "row50_m750 = list(fila_50km_m750.iloc[2])\n",
    "row75_m750 = list(fila_75km_m750.iloc[3])\n",
    "row95_m750 = list(fila_95km_m750.iloc[4])\n",
    "\n",
    "dists_m750 = [row10_m750, row20_m750, row50_m750, row75_m750, row95_m750]\n",
    "\n",
    "conf_dists_m750 = pd.DataFrame(dists_m750)\n",
    "\n",
    "# Drop first column\n",
    "conf_dists_m750.drop(columns=conf_dists_m750.columns[0], axis=1, inplace=True)\n",
    "conf_dists_m750.index = distancias\n",
    "conf_dists_m750.columns = distancias\n",
    "\n",
    "diagonal = [conf_dists_m750['10km'][0], conf_dists_m750['20km'][1], conf_dists_m750['50km'][2], conf_dists_m750['75km'][3], conf_dists_m750['95km'][4]]\n",
    "accuracy = np.sum(diagonal)/(40*5)\n",
    "\n",
    "print('m=750')\n",
    "print(conf_dists_m750)\n",
    "print(f'Accuracy: {accuracy}')\n",
    "df_accuracy_dists = pd.DataFrame([accuracy], index=['Percent'], columns=['Accuracy'])\n",
    "\n",
    "conf_dists_m750.to_excel('matrices_conf_dists/m750/mat_conf_dists_m750.xlsx')\n",
    "df_accuracy_dists.to_excel('matrices_conf_dists/m750/accuracy_m750.xlsx')"
   ]
  },
  {
   "cell_type": "code",
   "execution_count": 6,
   "metadata": {},
   "outputs": [
    {
     "name": "stdout",
     "output_type": "stream",
     "text": [
      "m=1000\n",
      "      10km  20km  50km  75km  95km\n",
      "10km    30     7     0     2     1\n",
      "20km     6    21     4     7     2\n",
      "50km     2     1    31     6     0\n",
      "75km     4     2     4    27     3\n",
      "95km     5     1     2     6    26\n",
      "Accuracy: 0.675\n"
     ]
    }
   ],
   "source": [
    "fila_10km_m1000 = pd.read_excel('matrices_conf_dists/m1000/fila10km.xlsx')\n",
    "fila_20km_m1000 = pd.read_excel('matrices_conf_dists/m1000/fila20km.xlsx')\n",
    "fila_50km_m1000 = pd.read_excel('matrices_conf_dists/m1000/fila50km.xlsx')\n",
    "fila_75km_m1000 = pd.read_excel('matrices_conf_dists/m1000/fila75km.xlsx')\n",
    "fila_95km_m1000 = pd.read_excel('matrices_conf_dists/m1000/fila95km.xlsx')\n",
    "\n",
    "\n",
    "row10_m1000 = list(fila_10km_m1000.iloc[0])\n",
    "row20_m1000 = list(fila_20km_m1000.iloc[1])\n",
    "row50_m1000 = list(fila_50km_m1000.iloc[2])\n",
    "row75_m1000 = list(fila_75km_m1000.iloc[3])\n",
    "row95_m1000 = list(fila_95km_m1000.iloc[4])\n",
    "\n",
    "dists_m1000 = [row10_m1000, row20_m1000, row50_m1000, row75_m1000, row95_m1000]\n",
    "\n",
    "conf_dists_m1000 = pd.DataFrame(dists_m1000)\n",
    "\n",
    "# Drop first column\n",
    "conf_dists_m1000.drop(columns=conf_dists_m1000.columns[0], axis=1, inplace=True)\n",
    "conf_dists_m1000.index = distancias\n",
    "conf_dists_m1000.columns = distancias\n",
    "\n",
    "diagonal = [conf_dists_m1000['10km'][0], conf_dists_m1000['20km'][1], conf_dists_m1000['50km'][2], conf_dists_m1000['75km'][3], conf_dists_m1000['95km'][4]]\n",
    "accuracy = np.sum(diagonal)/(40*5)\n",
    "\n",
    "print('m=1000')\n",
    "print(conf_dists_m1000)\n",
    "print(f'Accuracy: {accuracy}')\n",
    "df_accuracy_dists = pd.DataFrame([accuracy], index=['Percent'], columns=['Accuracy'])\n",
    "\n",
    "conf_dists_m1000.to_excel('matrices_conf_dists/m1000/mat_conf_dists_m1000.xlsx')\n",
    "df_accuracy_dists.to_excel('matrices_conf_dists/m1000/accuracy_m1000.xlsx')"
   ]
  },
  {
   "cell_type": "code",
   "execution_count": 7,
   "metadata": {},
   "outputs": [
    {
     "name": "stdout",
     "output_type": "stream",
     "text": [
      "m=1250\n",
      "      10km  20km  50km  75km  95km\n",
      "10km    29     6     3     1     1\n",
      "20km     6    20     2     7     5\n",
      "50km     6     0    28     6     0\n",
      "75km     5     2     2    23     8\n",
      "95km     6     2     3     5    24\n",
      "Accuracy: 0.62\n"
     ]
    }
   ],
   "source": [
    "fila_10km_m1250 = pd.read_excel('matrices_conf_dists/m1250/fila10km.xlsx')\n",
    "fila_20km_m1250 = pd.read_excel('matrices_conf_dists/m1250/fila20km.xlsx')\n",
    "fila_50km_m1250 = pd.read_excel('matrices_conf_dists/m1250/fila50km.xlsx')\n",
    "fila_75km_m1250 = pd.read_excel('matrices_conf_dists/m1250/fila75km.xlsx')\n",
    "fila_95km_m1250 = pd.read_excel('matrices_conf_dists/m1250/fila95km.xlsx')\n",
    "\n",
    "\n",
    "row10_m1250 = list(fila_10km_m1250.iloc[0])\n",
    "row20_m1250 = list(fila_20km_m1250.iloc[1])\n",
    "row50_m1250 = list(fila_50km_m1250.iloc[2])\n",
    "row75_m1250 = list(fila_75km_m1250.iloc[3])\n",
    "row95_m1250 = list(fila_95km_m1250.iloc[4])\n",
    "\n",
    "dists_m1250 = [row10_m1250, row20_m1250, row50_m1250, row75_m1250, row95_m1250]\n",
    "\n",
    "conf_dists_m1250 = pd.DataFrame(dists_m1250)\n",
    "\n",
    "# Drop first column\n",
    "conf_dists_m1250.drop(columns=conf_dists_m1250.columns[0], axis=1, inplace=True)\n",
    "conf_dists_m1250.index = distancias\n",
    "conf_dists_m1250.columns = distancias\n",
    "\n",
    "diagonal = [conf_dists_m1250['10km'][0], conf_dists_m1250['20km'][1], conf_dists_m1250['50km'][2], conf_dists_m1250['75km'][3], conf_dists_m1250['95km'][4]]\n",
    "accuracy = np.sum(diagonal)/(40*5)\n",
    "\n",
    "print('m=1250')\n",
    "print(conf_dists_m1250)\n",
    "print(f'Accuracy: {accuracy}')\n",
    "df_accuracy_dists = pd.DataFrame([accuracy], index=['Percent'], columns=['Accuracy'])\n",
    "\n",
    "conf_dists_m1250.to_excel('matrices_conf_dists/m1250/mat_conf_dists_m1250.xlsx')\n",
    "df_accuracy_dists.to_excel('matrices_conf_dists/m1250/accuracy_m1250.xlsx')"
   ]
  },
  {
   "cell_type": "code",
   "execution_count": 8,
   "metadata": {},
   "outputs": [
    {
     "name": "stdout",
     "output_type": "stream",
     "text": [
      "m=1500\n",
      "      10km  20km  50km  75km  95km\n",
      "10km    31     3     3     2     1\n",
      "20km     3    21     4     7     5\n",
      "50km     5     0    27     8     0\n",
      "75km     4     2     1    28     5\n",
      "95km     5     2     2     4    27\n",
      "Accuracy: 0.67\n"
     ]
    }
   ],
   "source": [
    "fila_10km_m1500 = pd.read_excel('matrices_conf_dists/m1500/fila10km.xlsx')\n",
    "fila_20km_m1500 = pd.read_excel('matrices_conf_dists/m1500/fila20km.xlsx')\n",
    "fila_50km_m1500 = pd.read_excel('matrices_conf_dists/m1500/fila50km.xlsx')\n",
    "fila_75km_m1500 = pd.read_excel('matrices_conf_dists/m1500/fila75km.xlsx')\n",
    "fila_95km_m1500 = pd.read_excel('matrices_conf_dists/m1500/fila95km.xlsx')\n",
    "\n",
    "\n",
    "row10_m1500 = list(fila_10km_m1500.iloc[0])\n",
    "row20_m1500 = list(fila_20km_m1500.iloc[1])\n",
    "row50_m1500 = list(fila_50km_m1500.iloc[2])\n",
    "row75_m1500 = list(fila_75km_m1500.iloc[3])\n",
    "row95_m1500 = list(fila_95km_m1500.iloc[4])\n",
    "\n",
    "dists_m1500 = [row10_m1500, row20_m1500, row50_m1500, row75_m1500, row95_m1500]\n",
    "\n",
    "conf_dists_m1500 = pd.DataFrame(dists_m1500)\n",
    "\n",
    "# Drop first column\n",
    "conf_dists_m1500.drop(columns=conf_dists_m1500.columns[0], axis=1, inplace=True)\n",
    "conf_dists_m1500.index = distancias\n",
    "conf_dists_m1500.columns = distancias\n",
    "\n",
    "diagonal = [conf_dists_m1500['10km'][0], conf_dists_m1500['20km'][1], conf_dists_m1500['50km'][2], conf_dists_m1500['75km'][3], conf_dists_m1500['95km'][4]]\n",
    "accuracy = np.sum(diagonal)/(40*5)\n",
    "\n",
    "print('m=1500')\n",
    "print(conf_dists_m1500)\n",
    "print(f'Accuracy: {accuracy}')\n",
    "df_accuracy_dists = pd.DataFrame([accuracy], index=['Percent'], columns=['Accuracy'])\n",
    "\n",
    "conf_dists_m1500.to_excel('matrices_conf_dists/m1500/mat_conf_dists_m1500.xlsx')\n",
    "df_accuracy_dists.to_excel('matrices_conf_dists/m1500/accuracy_m1500.xlsx')"
   ]
  },
  {
   "cell_type": "code",
   "execution_count": 9,
   "metadata": {},
   "outputs": [
    {
     "name": "stdout",
     "output_type": "stream",
     "text": [
      "m=1750\n",
      "      10km  20km  50km  75km  95km\n",
      "10km    33     3     1     1     2\n",
      "20km     5    17     6     9     3\n",
      "50km     4     2    25     8     1\n",
      "75km     6     1     3    26     4\n",
      "95km     6     0     2     5    27\n",
      "Accuracy: 0.64\n"
     ]
    }
   ],
   "source": [
    "fila_10km_m1750 = pd.read_excel('matrices_conf_dists/m1750/fila10km.xlsx')\n",
    "fila_20km_m1750 = pd.read_excel('matrices_conf_dists/m1750/fila20km.xlsx')\n",
    "fila_50km_m1750 = pd.read_excel('matrices_conf_dists/m1750/fila50km.xlsx')\n",
    "fila_75km_m1750 = pd.read_excel('matrices_conf_dists/m1750/fila75km.xlsx')\n",
    "fila_95km_m1750 = pd.read_excel('matrices_conf_dists/m1750/fila95km.xlsx')\n",
    "\n",
    "\n",
    "row10_m1750 = list(fila_10km_m1750.iloc[0])\n",
    "row20_m1750 = list(fila_20km_m1750.iloc[1])\n",
    "row50_m1750 = list(fila_50km_m1750.iloc[2])\n",
    "row75_m1750 = list(fila_75km_m1750.iloc[3])\n",
    "row95_m1750 = list(fila_95km_m1750.iloc[4])\n",
    "\n",
    "dists_m1750 = [row10_m1750, row20_m1750, row50_m1750, row75_m1750, row95_m1750]\n",
    "\n",
    "conf_dists_m1750 = pd.DataFrame(dists_m1750)\n",
    "\n",
    "# Drop first column\n",
    "conf_dists_m1750.drop(columns=conf_dists_m1750.columns[0], axis=1, inplace=True)\n",
    "conf_dists_m1750.index = distancias\n",
    "conf_dists_m1750.columns = distancias\n",
    "\n",
    "diagonal = [conf_dists_m1750['10km'][0], conf_dists_m1750['20km'][1], conf_dists_m1750['50km'][2], conf_dists_m1750['75km'][3], conf_dists_m1750['95km'][4]]\n",
    "accuracy = np.sum(diagonal)/(40*5)\n",
    "\n",
    "print('m=1750')\n",
    "print(conf_dists_m1750)\n",
    "print(f'Accuracy: {accuracy}')\n",
    "df_accuracy_dists = pd.DataFrame([accuracy], index=['Percent'], columns=['Accuracy'])\n",
    "\n",
    "conf_dists_m1750.to_excel('matrices_conf_dists/m1750/mat_conf_dists_m1750.xlsx')\n",
    "df_accuracy_dists.to_excel('matrices_conf_dists/m1750/accuracy_m1750.xlsx')"
   ]
  },
  {
   "cell_type": "code",
   "execution_count": 10,
   "metadata": {},
   "outputs": [
    {
     "name": "stdout",
     "output_type": "stream",
     "text": [
      "m=2000\n",
      "      10km  20km  50km  75km  95km\n",
      "10km    29     5     2     4     0\n",
      "20km     6    22     4     5     3\n",
      "50km     4     1    30     5     0\n",
      "75km     2     4     4    28     2\n",
      "95km     6     1     4     4    25\n",
      "Accuracy: 0.67\n"
     ]
    }
   ],
   "source": [
    "fila_10km_m2000 = pd.read_excel('matrices_conf_dists/m2000/fila10km.xlsx')\n",
    "fila_20km_m2000 = pd.read_excel('matrices_conf_dists/m2000/fila20km.xlsx')\n",
    "fila_50km_m2000 = pd.read_excel('matrices_conf_dists/m2000/fila50km.xlsx')\n",
    "fila_75km_m2000 = pd.read_excel('matrices_conf_dists/m2000/fila75km.xlsx')\n",
    "fila_95km_m2000 = pd.read_excel('matrices_conf_dists/m2000/fila95km.xlsx')\n",
    "\n",
    "\n",
    "row10_m2000 = list(fila_10km_m2000.iloc[0])\n",
    "row20_m2000 = list(fila_20km_m2000.iloc[1])\n",
    "row50_m2000 = list(fila_50km_m2000.iloc[2])\n",
    "row75_m2000 = list(fila_75km_m2000.iloc[3])\n",
    "row95_m2000 = list(fila_95km_m2000.iloc[4])\n",
    "\n",
    "dists_m2000 = [row10_m2000, row20_m2000, row50_m2000, row75_m2000, row95_m2000]\n",
    "\n",
    "conf_dists_m2000 = pd.DataFrame(dists_m2000)\n",
    "\n",
    "# Drop first column\n",
    "conf_dists_m2000.drop(columns=conf_dists_m2000.columns[0], axis=1, inplace=True)\n",
    "conf_dists_m2000.index = distancias\n",
    "conf_dists_m2000.columns = distancias\n",
    "\n",
    "diagonal = [conf_dists_m2000['10km'][0], conf_dists_m2000['20km'][1], conf_dists_m2000['50km'][2], conf_dists_m2000['75km'][3], conf_dists_m2000['95km'][4]]\n",
    "accuracy = np.sum(diagonal)/(40*5)\n",
    "\n",
    "print('m=2000')\n",
    "print(conf_dists_m2000)\n",
    "print(f'Accuracy: {accuracy}')\n",
    "df_accuracy_dists = pd.DataFrame([accuracy], index=['Percent'], columns=['Accuracy'])\n",
    "\n",
    "conf_dists_m2000.to_excel('matrices_conf_dists/m2000/mat_conf_dists_m2000.xlsx')\n",
    "df_accuracy_dists.to_excel('matrices_conf_dists/m2000/accuracy_m2000.xlsx')"
   ]
  }
 ],
 "metadata": {
  "interpreter": {
   "hash": "66fae31a64a3f9abf83ec619f6f50192c05c0e65f9d872088d026eb48a0550c8"
  },
  "kernelspec": {
   "display_name": "Python 3.9.7 64-bit",
   "language": "python",
   "name": "python3"
  },
  "language_info": {
   "codemirror_mode": {
    "name": "ipython",
    "version": 3
   },
   "file_extension": ".py",
   "mimetype": "text/x-python",
   "name": "python",
   "nbconvert_exporter": "python",
   "pygments_lexer": "ipython3",
   "version": "3.9.7"
  },
  "orig_nbformat": 4
 },
 "nbformat": 4,
 "nbformat_minor": 2
}
